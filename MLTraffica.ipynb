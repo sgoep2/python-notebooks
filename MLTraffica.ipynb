{
  "nbformat": 4,
  "nbformat_minor": 0,
  "metadata": {
    "colab": {
      "name": "Untitled11.ipynb",
      "provenance": [],
      "authorship_tag": "ABX9TyOyqAm78iu574dXlH2UJ9Ea",
      "include_colab_link": true
    },
    "kernelspec": {
      "name": "python3",
      "display_name": "Python 3"
    },
    "language_info": {
      "name": "python"
    }
  },
  "cells": [
    {
      "cell_type": "markdown",
      "metadata": {
        "id": "view-in-github",
        "colab_type": "text"
      },
      "source": [
        "<a href=\"https://colab.research.google.com/github/sgoep2/python-notebooks/blob/master/MLTraffica.ipynb\" target=\"_parent\"><img src=\"https://colab.research.google.com/assets/colab-badge.svg\" alt=\"Open In Colab\"/></a>"
      ]
    },
    {
      "cell_type": "code",
      "metadata": {
        "id": "3KMdLEvFJUNY"
      },
      "source": [
        "# importamos las librerías que necesitamos\n",
        "\n",
        "from sklearn.tree import DecisionTreeClassifier # árbol de decisión para clasificación"
      ],
      "execution_count": 1,
      "outputs": []
    },
    {
      "cell_type": "code",
      "metadata": {
        "id": "jxUOjU5kJU0c"
      },
      "source": [
        "#los valores son porcentuales\n",
        "data=[[1, 1, 1, 1],\n",
        "      [0.9, 0.9 , 0.9, 0.9],\n",
        "      [0.6, 0.6, 0.6, 0.6],\n",
        "      [0.4, 0.4, 0.4, 0.4],\n",
        "      [0, 0, 0, 0],\n",
        "      [1,0,1,0]]"
      ],
      "execution_count": 14,
      "outputs": []
    },
    {
      "cell_type": "code",
      "metadata": {
        "id": "ct89by08JWlb"
      },
      "source": [
        "#los target son 0 ok 1 regular 2 malo\n",
        "target=[0,0,1,2,2,2]"
      ],
      "execution_count": 15,
      "outputs": []
    },
    {
      "cell_type": "code",
      "metadata": {
        "colab": {
          "base_uri": "https://localhost:8080/"
        },
        "id": "ZI_vS4mGJbvq",
        "outputId": "0bad2d52-ed1f-487b-c1a6-9069e6a45105"
      },
      "source": [
        "tree = DecisionTreeClassifier(max_depth=3, random_state=42) # vamos a usar un árbol de profundidad 2\n",
        "tree.fit(data, target) # entrenamiento del árbol\n",
        "# podemos usar el método predict para obtener predicciones\n",
        "print(data[1:3])\n",
        "print(target[1:3])\n",
        "# podemos usar el método predict para obtener predicciones\n",
        "print( tree.predict(data[1:3]) )\n",
        "\n",
        "print( tree.predict([[0,1,0,1]]))\n"
      ],
      "execution_count": 16,
      "outputs": [
        {
          "output_type": "stream",
          "text": [
            "[[0.9, 0.9, 0.9, 0.9], [0.6, 0.6, 0.6, 0.6]]\n",
            "[0, 1]\n",
            "[0 1]\n",
            "[1]\n"
          ],
          "name": "stdout"
        }
      ]
    }
  ]
}